{
 "cells": [
  {
   "cell_type": "markdown",
   "metadata": {},
   "source": [
    "# Write a function in python that can reverse a string using stack data structure. Use [Stack class](https://github.com/codebasics/data-structures-algorithms-python/blob/master/data_structures/5_Stack/5_stack.ipynb) from the tutorial.\n",
    "    ```\n",
    "    reverse_string(\"We will conquere COVID-19\") should return \"91-DIVOC ereuqnoc lliw eW\"\n",
    "    ```"
   ]
  },
  {
   "cell_type": "code",
   "execution_count": 1,
   "metadata": {},
   "outputs": [],
   "source": [
    "from collections import deque\n",
    "def reverse_string(string):\n",
    "    stack=deque()\n",
    "    reverse_str=''\n",
    "    for i in string:\n",
    "        stack.append(i)\n",
    "    while stack:\n",
    "        reverse_str+=stack.pop()\n",
    "    return reverse_str"
   ]
  },
  {
   "cell_type": "code",
   "execution_count": 2,
   "metadata": {},
   "outputs": [
    {
     "data": {
      "text/plain": [
       "'91-DIVOC eruqnoc lliw eW'"
      ]
     },
     "execution_count": 2,
     "metadata": {},
     "output_type": "execute_result"
    }
   ],
   "source": [
    "reverse_string('We will conqure COVID-19')"
   ]
  },
  {
   "cell_type": "markdown",
   "metadata": {},
   "source": [
    "# Easy way to do it."
   ]
  },
  {
   "cell_type": "code",
   "execution_count": 3,
   "metadata": {},
   "outputs": [],
   "source": [
    "string='We will conqure COVID-19'"
   ]
  },
  {
   "cell_type": "code",
   "execution_count": 4,
   "metadata": {},
   "outputs": [
    {
     "data": {
      "text/plain": [
       "'91-DIVOC eruqnoc lliw eW'"
      ]
     },
     "execution_count": 4,
     "metadata": {},
     "output_type": "execute_result"
    }
   ],
   "source": [
    "string[::-1]"
   ]
  },
  {
   "cell_type": "markdown",
   "metadata": {},
   "source": [
    "# Write a function in python that checks if paranthesis in the string are balanced or not. Possible parantheses are \"{}',\"()\" or \"[]\". Use [Stack class](https://github.com/codebasics/data-structures-algorithms-python/blob/master/data_structures/5_Stack/5_stack.ipynb) from the tutorial.\n",
    "    ```\n",
    "    is_balanced(\"({a+b})\")     --> True\n",
    "    is_balanced(\"))((a+b}{\")   --> False\n",
    "    is_balanced(\"((a+b))\")     --> True\n",
    "    is_balanced(\"))\")          --> False\n",
    "    is_balanced(\"[a+b]*(x+2y)*{gg+kk}\") --> True\n",
    "    ```"
   ]
  },
  {
   "cell_type": "markdown",
   "metadata": {},
   "source": [
    "Using stack class."
   ]
  },
  {
   "cell_type": "code",
   "execution_count": 5,
   "metadata": {},
   "outputs": [],
   "source": [
    "from collections import deque\n",
    "class stack:\n",
    "    def __init__(self):\n",
    "        self.container=deque()\n",
    "    def push(self,val):\n",
    "        self.container.append(val)\n",
    "    def pop(self):\n",
    "        return self.container.pop()\n",
    "    def peek(self):\n",
    "        return self.container[-1]\n",
    "    def size(self):\n",
    "        return len(self.container)"
   ]
  },
  {
   "cell_type": "code",
   "execution_count": 6,
   "metadata": {},
   "outputs": [],
   "source": [
    "def match(ch1,ch2):\n",
    "    match_dic={\n",
    "        '(':')',\n",
    "        '[':']',\n",
    "        '{':'}',\n",
    "    }\n",
    "    return match_dic[ch1]==ch2"
   ]
  },
  {
   "cell_type": "code",
   "execution_count": 7,
   "metadata": {},
   "outputs": [],
   "source": [
    "def is_balanced(string):\n",
    "    st=stack()\n",
    "    for ch in string:\n",
    "        if ch=='(' or ch=='[' or ch=='{':\n",
    "            st.push(ch)\n",
    "        if ch==')' or ch==']' or ch=='}':\n",
    "            if st.size()==0:\n",
    "                return False\n",
    "            if not match(st.pop(),ch):\n",
    "                return False\n",
    "    return st.size()==0"
   ]
  },
  {
   "cell_type": "code",
   "execution_count": 8,
   "metadata": {},
   "outputs": [
    {
     "name": "stdout",
     "output_type": "stream",
     "text": [
      "True\n",
      "True\n",
      "True\n",
      "True\n",
      "True\n",
      "True\n",
      "True\n",
      "False\n",
      "False\n",
      "False\n",
      "False\n",
      "False\n"
     ]
    }
   ],
   "source": [
    "# Balanced\n",
    "print(is_balanced(\"()\"))          # True\n",
    "print(is_balanced(\"{}\"))          # True\n",
    "print(is_balanced(\"[]\"))          # True\n",
    "\n",
    "# Nested Balanced\n",
    "print(is_balanced(\"({[]})\"))      # True\n",
    "print(is_balanced(\"{[()()]}\"))    # True\n",
    "\n",
    "# Mixed Balanced\n",
    "print(is_balanced(\"()[]{}\"))      # True\n",
    "print(is_balanced(\"([{}])\"))      # True\n",
    "\n",
    "# Unbalanced\n",
    "print(is_balanced(\"(\"))           # False\n",
    "print(is_balanced(\")\"))           # False\n",
    "print(is_balanced(\"({[)]}\"))      # False\n",
    "print(is_balanced(\"({}\"))         # False\n",
    "print(is_balanced(\"({[})\"))       # False\n"
   ]
  },
  {
   "cell_type": "markdown",
   "metadata": {},
   "source": [
    "It is not the right approch according to question."
   ]
  },
  {
   "cell_type": "code",
   "execution_count": 9,
   "metadata": {},
   "outputs": [],
   "source": [
    "def is_balanced(string):\n",
    "    first_l=string.count('(')\n",
    "    first_r=string.count(')')\n",
    "    second_l=string.count('{')\n",
    "    second_r=string.count('}')\n",
    "    third_l=string.count('[')\n",
    "    third_r=string.count(']')\n",
    "    if first_l==first_r and second_l==second_r and third_l==third_r:\n",
    "        return True\n",
    "    else:\n",
    "        return False"
   ]
  },
  {
   "cell_type": "code",
   "execution_count": 10,
   "metadata": {},
   "outputs": [
    {
     "name": "stdout",
     "output_type": "stream",
     "text": [
      "True\n",
      "True\n",
      "True\n",
      "True\n",
      "True\n",
      "True\n",
      "True\n",
      "False\n",
      "False\n",
      "True\n",
      "False\n",
      "False\n"
     ]
    }
   ],
   "source": [
    "# Balanced\n",
    "print(is_balanced(\"()\"))          # True\n",
    "print(is_balanced(\"{}\"))          # True\n",
    "print(is_balanced(\"[]\"))          # True\n",
    "\n",
    "# Nested Balanced\n",
    "print(is_balanced(\"({[]})\"))      # True\n",
    "print(is_balanced(\"{[()()]}\"))    # True\n",
    "\n",
    "# Mixed Balanced\n",
    "print(is_balanced(\"()[]{}\"))      # True\n",
    "print(is_balanced(\"([{}])\"))      # True\n",
    "\n",
    "# Unbalanced\n",
    "print(is_balanced(\"(\"))           # False\n",
    "print(is_balanced(\")\"))           # False\n",
    "print(is_balanced(\"({[)]}\"))      # False\n",
    "print(is_balanced(\"({}\"))         # False\n",
    "print(is_balanced(\"({[})\"))       # False\n"
   ]
  }
 ],
 "metadata": {
  "kernelspec": {
   "display_name": "base",
   "language": "python",
   "name": "python3"
  },
  "language_info": {
   "codemirror_mode": {
    "name": "ipython",
    "version": 3
   },
   "file_extension": ".py",
   "mimetype": "text/x-python",
   "name": "python",
   "nbconvert_exporter": "python",
   "pygments_lexer": "ipython3",
   "version": "3.12.2"
  }
 },
 "nbformat": 4,
 "nbformat_minor": 2
}
